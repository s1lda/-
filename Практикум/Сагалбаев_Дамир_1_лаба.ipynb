{
  "nbformat": 4,
  "nbformat_minor": 0,
  "metadata": {
    "colab": {
      "provenance": []
    },
    "kernelspec": {
      "name": "python3",
      "display_name": "Python 3"
    },
    "language_info": {
      "name": "python"
    }
  },
  "cells": [
    {
      "cell_type": "code",
      "execution_count": 1,
      "metadata": {
        "id": "bQz2ZpDXqfao"
      },
      "outputs": [],
      "source": [
        "import numpy as np"
      ]
    },
    {
      "cell_type": "markdown",
      "source": [
        "1.Создайте numpy array my_array, элементами которого будут числа из интервала\n",
        "\n",
        "[10, 70) с шагом 2. Выведите на экран результат."
      ],
      "metadata": {
        "id": "xM1uT3YWqoBZ"
      }
    },
    {
      "cell_type": "code",
      "source": [
        "my_array = np.arange(10, 70, 2)\n",
        "result = ' '.join(map(str, my_array))\n",
        "print(result)"
      ],
      "metadata": {
        "colab": {
          "base_uri": "https://localhost:8080/"
        },
        "id": "KdADfvl1qpI2",
        "outputId": "59c03457-dd41-4545-b1c4-50d5338e132e"
      },
      "execution_count": 2,
      "outputs": [
        {
          "output_type": "stream",
          "name": "stdout",
          "text": [
            "10 12 14 16 18 20 22 24 26 28 30 32 34 36 38 40 42 44 46 48 50 52 54 56 58 60 62 64 66 68\n"
          ]
        }
      ]
    },
    {
      "cell_type": "markdown",
      "source": [
        "Преобразуйте полученный my_array в матрицу A (6x5). Транспонируйте матрицу A. Далее будем работать с транспонированной матрицей A."
      ],
      "metadata": {
        "id": "Xl-JsTlSqrb6"
      }
    },
    {
      "cell_type": "code",
      "source": [
        "my_array = np.arange(10, 70, 2)\n",
        "A = my_array.reshape((6, 5))\n",
        "for row in A:\n",
        "    for elem in row:\n",
        "        print(elem, end=' ')\n",
        "    print()"
      ],
      "metadata": {
        "colab": {
          "base_uri": "https://localhost:8080/"
        },
        "id": "v-VtHpvzqq2j",
        "outputId": "5ff03e0a-bd2b-4d7b-ff04-4e1420d7bad7"
      },
      "execution_count": 3,
      "outputs": [
        {
          "output_type": "stream",
          "name": "stdout",
          "text": [
            "10 12 14 16 18 \n",
            "20 22 24 26 28 \n",
            "30 32 34 36 38 \n",
            "40 42 44 46 48 \n",
            "50 52 54 56 58 \n",
            "60 62 64 66 68 \n"
          ]
        }
      ]
    },
    {
      "cell_type": "code",
      "source": [
        "A = A.T\n",
        "for row in A:\n",
        "    for elem in row:\n",
        "        print(elem, end=' ')\n",
        "    print()"
      ],
      "metadata": {
        "colab": {
          "base_uri": "https://localhost:8080/"
        },
        "id": "L2r5K6VAqwqu",
        "outputId": "0718b926-20d1-4df4-d47e-2e7428708c58"
      },
      "execution_count": 4,
      "outputs": [
        {
          "output_type": "stream",
          "name": "stdout",
          "text": [
            "10 20 30 40 50 60 \n",
            "12 22 32 42 52 62 \n",
            "14 24 34 44 54 64 \n",
            "16 26 36 46 56 66 \n",
            "18 28 38 48 58 68 \n"
          ]
        }
      ]
    },
    {
      "cell_type": "markdown",
      "source": [
        "Умножьте все элементы матрицы на 2.5 и вычтете из каждого элемента 5 (в одной строке). Выведите новую матрицу на экран."
      ],
      "metadata": {
        "id": "1nZkMxu6qyJC"
      }
    },
    {
      "cell_type": "code",
      "source": [
        "A = A * 2.5\n",
        "row_to_substract = 0\n",
        "A[row_to_substract] = A[row_to_substract] - 5\n",
        "for row in A:\n",
        "    for elem in row:\n",
        "        print(int(elem), end=' ')\n",
        "    print()"
      ],
      "metadata": {
        "colab": {
          "base_uri": "https://localhost:8080/"
        },
        "id": "vhKBHfFrq0c7",
        "outputId": "678c1c89-26e9-4786-f4a9-cdf28cc4fc5f"
      },
      "execution_count": 5,
      "outputs": [
        {
          "output_type": "stream",
          "name": "stdout",
          "text": [
            "20 45 70 95 120 145 \n",
            "30 55 80 105 130 155 \n",
            "35 60 85 110 135 160 \n",
            "40 65 90 115 140 165 \n",
            "45 70 95 120 145 170 \n"
          ]
        }
      ]
    },
    {
      "cell_type": "markdown",
      "source": [
        "Создайте матрицу B (6x3) заполняя каждую ячейку случайным действительным числом от 0 до 10. Выведите матрицу на экран."
      ],
      "metadata": {
        "id": "rmVWgvy0q5dZ"
      }
    },
    {
      "cell_type": "code",
      "source": [
        "B = np.random.uniform(0, 10, size=(6, 3))\n",
        "B = np.around(B, decimals=2)\n",
        "for row in B:\n",
        "    for elem in row:\n",
        "        if elem.is_integer():\n",
        "            print(int(elem), end=' ')\n",
        "        else:\n",
        "            print('{:.2f}'.format(elem), end=' ')\n",
        "    print()"
      ],
      "metadata": {
        "colab": {
          "base_uri": "https://localhost:8080/"
        },
        "id": "dJcYqpWKq6ma",
        "outputId": "738fc71f-ccba-4421-c046-b9e4db206896"
      },
      "execution_count": 6,
      "outputs": [
        {
          "output_type": "stream",
          "name": "stdout",
          "text": [
            "9.42 1.75 0.99 \n",
            "7.43 5.64 1.15 \n",
            "1 9.44 5.37 \n",
            "9.95 7.67 2.13 \n",
            "2.61 9.06 5.05 \n",
            "0.81 9.44 3.64 \n"
          ]
        }
      ]
    },
    {
      "cell_type": "markdown",
      "source": [
        "Получите вектор a, элементами которого являются суммы по всем строкам матрицы A. Получите вектор b, элементами которого являются суммы по всем столбцам матрицы B. Выведите на экран размеры полученных векторов."
      ],
      "metadata": {
        "id": "Uqbwu0Ewq9M3"
      }
    },
    {
      "cell_type": "code",
      "source": [
        "a = np.sum(A, axis=1)\n",
        "print(\"Вектор a:\")\n",
        "for elem in a:\n",
        "    print(int(elem), end=' ')\n",
        "print()\n",
        "\n",
        "b = np.sum(B, axis=0)\n",
        "b = np.around(b, decimals=2)\n",
        "print(\"Вектор b:\")\n",
        "for elem in b:\n",
        "    if elem.is_integer():\n",
        "        print(int(elem), end=' ')\n",
        "    else:\n",
        "        print('{:.2f}'.format(elem), end=' ')\n",
        "print()\n",
        "\n",
        "print(\"Размер вектора a:\", len(a))\n",
        "print(\"Размер вектора b:\", len(b))"
      ],
      "metadata": {
        "colab": {
          "base_uri": "https://localhost:8080/"
        },
        "id": "4Uh4gNbJq-ZM",
        "outputId": "b2d0a73c-ddd5-4dfc-f2b5-512336bf17b1"
      },
      "execution_count": 8,
      "outputs": [
        {
          "output_type": "stream",
          "name": "stdout",
          "text": [
            "Вектор a:\n",
            "495 555 585 615 645 \n",
            "Вектор b:\n",
            "31.22 43 18.33 \n",
            "Размер вектора a: 5\n",
            "Размер вектора b: 3\n"
          ]
        }
      ]
    },
    {
      "cell_type": "markdown",
      "source": [
        "Вычислите произведение матриц A и B."
      ],
      "metadata": {
        "id": "vke8NJJGrDa5"
      }
    },
    {
      "cell_type": "code",
      "source": [
        "C = np.dot(A, B)\n",
        "\n",
        "print(\"Произведение матриц A и B:\")\n",
        "for row in C:\n",
        "    for elem in row:\n",
        "        elem = '{:.2f}'.format(elem).rstrip('0').rstrip('.') # мы оставляем после точки только 2 цифры, а после удаляем все нули (после точки). Если справа от самого числа осталась только точка, мы ее удаляем.\n",
        "        print(elem, end=' ')\n",
        "    print()"
      ],
      "metadata": {
        "colab": {
          "base_uri": "https://localhost:8080/"
        },
        "id": "VBFXrq7arEpP",
        "outputId": "b8cf4bf3-ce43-4c16-c1fa-1e1cd3ba8624"
      },
      "execution_count": 9,
      "outputs": [
        {
          "output_type": "stream",
          "name": "stdout",
          "text": [
            "Произведение матриц A и B:\n",
            "1968.65 4134.25 1783.6 \n",
            "2280.85 4564.25 1966.9 \n",
            "2436.95 4779.25 2058.55 \n",
            "2593.05 4994.25 2150.2 \n",
            "2749.15 5209.25 2241.85 \n"
          ]
        }
      ]
    },
    {
      "cell_type": "markdown",
      "source": [
        "Удалите третий столбец из матрицы A. Добавьте три столбца из случайных чисел от 10 до 20 к матрице B. На данном шаге у вас должны получиться две квадратные матрицы A и B (5x5 и 6x6)."
      ],
      "metadata": {
        "id": "_Oqrvbm7rGyR"
      }
    },
    {
      "cell_type": "code",
      "source": [
        "A = np.delete(A, 2, axis=1) #удаляем третий столбец (axis=1 означает удаление столбца, 2 - индекс столбца)\n",
        "print('Матрица А:')\n",
        "for row in A:\n",
        "    for elem in row:\n",
        "        print(int(elem), end=' ')\n",
        "    print()\n",
        "print()\n",
        "random_columns = np.random.randint(10, 21, size=(B.shape[0], 3)) # с помощью B.shape[0] мы получаем количество элементов, которые нужно заполнить в новых столбцах\n",
        "                                                                 # т.е. грубо говоря мы получаем количество строк, чтобы создать 3 столбца такого же размера, как и остальные\n",
        "B = np.hstack((B, random_columns))  # данной строкой мы добавляем к нашей матрице B 3 сгенерированных выше столбца\n",
        "B = np.around(B, decimals=2)\n",
        "print('Матрица B:')\n",
        "for row in B:\n",
        "    for elem in row:\n",
        "        if elem.is_integer():\n",
        "            print(int(elem), end=' ')\n",
        "        else:\n",
        "            print('{:.2f}'.format(elem), end=' ')\n",
        "    print()\n"
      ],
      "metadata": {
        "colab": {
          "base_uri": "https://localhost:8080/"
        },
        "id": "9CoPaRuYrH44",
        "outputId": "08bceaa5-1160-4e30-e48b-849193fe7fc8"
      },
      "execution_count": 10,
      "outputs": [
        {
          "output_type": "stream",
          "name": "stdout",
          "text": [
            "Матрица А:\n",
            "20 45 95 120 145 \n",
            "30 55 105 130 155 \n",
            "35 60 110 135 160 \n",
            "40 65 115 140 165 \n",
            "45 70 120 145 170 \n",
            "\n",
            "Матрица B:\n",
            "9.42 1.75 0.99 16 11 16 \n",
            "7.43 5.64 1.15 10 10 13 \n",
            "1 9.44 5.37 10 14 18 \n",
            "9.95 7.67 2.13 18 19 16 \n",
            "2.61 9.06 5.05 10 12 20 \n",
            "0.81 9.44 3.64 13 20 16 \n"
          ]
        }
      ]
    },
    {
      "cell_type": "markdown",
      "source": [
        "Найдите определители матриц A и B. Вычислите обратные матрицы для матриц A и B. Обратите внимание на то, что определитель может быть равен нулю и тогда вычисление обратной матрицы невозможно."
      ],
      "metadata": {
        "id": "7G05-kWhrJ4Y"
      }
    },
    {
      "cell_type": "code",
      "source": [
        "det_A = np.linalg.det(A)\n",
        "print(\"Определитель матрицы А:\")\n",
        "if det_A.is_integer():\n",
        "  print(int(det_A))\n",
        "else:\n",
        "  print(det_A)\n",
        "\n",
        "det_B = np.linalg.det(B)\n",
        "print(\"Определитель матрицы B:\")\n",
        "if det_B.is_integer():\n",
        "  print(int(det_B))\n",
        "else:\n",
        "  print('{:.2f}'.format(det_B))"
      ],
      "metadata": {
        "colab": {
          "base_uri": "https://localhost:8080/"
        },
        "id": "AEgurg-XrLC6",
        "outputId": "09c2e40b-c9a0-413a-ebb9-a9429e256c92"
      },
      "execution_count": 11,
      "outputs": [
        {
          "output_type": "stream",
          "name": "stdout",
          "text": [
            "Определитель матрицы А:\n",
            "0\n",
            "Определитель матрицы B:\n",
            "-2166.63\n"
          ]
        }
      ]
    },
    {
      "cell_type": "code",
      "source": [
        "\n",
        "if det_A != 0:\n",
        "    inv_A = np.linalg.inv(A)\n",
        "    print(\"Обратная матрица для A:\")\n",
        "    for row in inv_A:\n",
        "        for elem in row:\n",
        "            formatted_elem = '{:.2f}'.format(elem).rstrip('0').rstrip('.')\n",
        "            print(formatted_elem, end=' ')\n",
        "        print()\n",
        "else:\n",
        "    print(\"Обратной матрицы для A не существует (определитель равен нулю)\")\n",
        "\n",
        "if det_B != 0:\n",
        "    inv_B = np.linalg.inv(B)\n",
        "    print(\"Обратная матрица для B:\")\n",
        "    for row in inv_B:\n",
        "        for elem in row:\n",
        "            formatted_elem = '{:.2f}'.format(elem).rstrip('0').rstrip('.')\n",
        "            print(formatted_elem, end=' ')\n",
        "        print()\n",
        "else:\n",
        "    print(\"Обратной матрицы для B не существует (определитель равен нулю)\")"
      ],
      "metadata": {
        "colab": {
          "base_uri": "https://localhost:8080/"
        },
        "id": "Rsm7oZ9KrPh0",
        "outputId": "6f0252ca-2690-45f2-d005-6b948dd9a798"
      },
      "execution_count": 14,
      "outputs": [
        {
          "output_type": "stream",
          "name": "stdout",
          "text": [
            "Обратной матрицы для A не существует (определитель равен нулю)\n",
            "Обратная матрица для B:\n",
            "0.32 1.33 2.64 -0.76 -2.53 -0.45 \n",
            "-0.78 -1.94 -4.22 1.49 4.12 0.46 \n",
            "0.48 1.23 3.92 -0.8 -3.42 -0.8 \n",
            "-0.61 -2.39 -4.44 1.63 4.35 0.48 \n",
            "0.52 1.77 3.5 -1.22 -3.48 -0.32 \n",
            "0.19 0.53 0.7 -0.46 -0.71 0 \n"
          ]
        }
      ]
    },
    {
      "cell_type": "markdown",
      "source": [
        "Возведите матрицу A в 6 степень, а матрицу B – в 14."
      ],
      "metadata": {
        "id": "mCSfyJQwrUyK"
      }
    },
    {
      "cell_type": "code",
      "source": [
        "A6 = np.linalg.matrix_power(A, 6)\n",
        "\n",
        "B14 = np.linalg.matrix_power(B, 14)\n",
        "\n",
        "print('Матрица A:')\n",
        "for row in A6:\n",
        "    for elem in row:\n",
        "        if elem.is_integer():\n",
        "            print(int(elem), end=' ')\n",
        "        else:\n",
        "            print('{:.2f}'.format(elem), end=' ')\n",
        "    print()\n",
        "\n",
        "print('Матрица B:')\n",
        "for row in B14:\n",
        "    for elem in row:\n",
        "        if elem.is_integer():\n",
        "            print(int(elem), end=' ')\n",
        "        else:\n",
        "            print('{:.2f}'.format(elem), end=' ')\n",
        "    print()"
      ],
      "metadata": {
        "colab": {
          "base_uri": "https://localhost:8080/"
        },
        "id": "ayuVKgLRrTf-",
        "outputId": "4bb1ba27-cb6b-46a7-cbc5-d2e1c60fd128"
      },
      "execution_count": 15,
      "outputs": [
        {
          "output_type": "stream",
          "name": "stdout",
          "text": [
            "Матрица A:\n",
            "1129241703375000 1876213300640625 3370156495171875 4117128092437500 4864099689703125 \n",
            "1256417141625000 2087512856859375 3749704287328125 4580800002562500 5411895717796875 \n",
            "1320004860750000 2193162634968750 3939478183406250 4812635957625000 5685793731843750 \n",
            "1383592579875000 2298812413078125 4129252079484375 5044471912687500 5959691745890625 \n",
            "1447180299000000 2404462191187500 4319025975562500 5276307867750000 6233589759937500 \n",
            "Матрица B:\n",
            "726054908123629544800256 1205605431707356004089856 495782183630864379805696 1987930294435283239698432 2364598220068572715024384 2560245208879584270876672 \n",
            "599883247443647005720576 996098908526963582828544 409626631560993840300032 1642473685361376448479232 1953685380112361178791936 2115333417592995526475776 \n",
            "724156955214893891452928 1202453903814075090993152 494486178040125755228160 1982733720439336460091392 2358417012608073535062016 2553552567973401507921920 \n",
            "931250169274946516156416 1546329691873306612858880 635898521263810788982784 2549752646102212944068608 3032873227734900461797376 3283813328009630041767936 \n",
            "737612512829372098412544 1224796695194563380248576 503674223819955451723776 2019574888109165810548736 2402238750088653665468416 2601000118460496274784256 \n",
            "793642845387978461675520 1317834387686865246355456 541934196055252490256384 2172985317892609378615296 2584716994030772007469056 2798576622499497380937728 \n"
          ]
        }
      ]
    },
    {
      "cell_type": "markdown",
      "source": [
        "Решите систему линейных уравнений для своего варианта. Вариантов меньше, чем студентов. Ваш вариант – это остаток от деления вашего номера в группе на количество вариантов. 3 вариант"
      ],
      "metadata": {
        "id": "aocjGViwrXHi"
      }
    },
    {
      "cell_type": "code",
      "source": [
        "system = np.array([[3, -1.2, -8, 8],\n",
        "              [21, -19, 0.5, 0],\n",
        "              [7, 0, -4.9, -2],\n",
        "              [1, -2, 13, 9]])\n",
        "\n",
        "answers = np.array([20, -8, 11, 3])\n",
        "\n",
        "x = np.linalg.solve(system, answers)\n",
        "\n",
        "print(\"Решение системы уравнений:\")\n",
        "for i in range(0, x.size):\n",
        "  print(\"x\", i, \" = \", np.round(x[i], 2))"
      ],
      "metadata": {
        "colab": {
          "base_uri": "https://localhost:8080/"
        },
        "id": "on_PBwQgrZu6",
        "outputId": "34fd137b-c4df-40c3-ac07-18725443d0f8"
      },
      "execution_count": 16,
      "outputs": [
        {
          "output_type": "stream",
          "name": "stdout",
          "text": [
            "Решение системы уравнений:\n",
            "x 0  =  1.56\n",
            "x 1  =  2.13\n",
            "x 2  =  -0.65\n",
            "x 3  =  1.58\n"
          ]
        }
      ]
    }
  ]
}